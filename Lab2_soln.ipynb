{
 "cells": [
  {
   "cell_type": "markdown",
   "metadata": {},
   "source": [
    "# Lab 2\n",
    "\n",
    "## Outline of topics:\n",
    "\n",
    "1. Hints for the field capacity problem.\n",
    "2. Hints for the Chutes and Ladders Game.\n",
    "3. Hints for the Line Reverser problem.\n",
    "4. \n",
    "\n",
    "\n",
    "## In lab later on the assigned work is:\n",
    "\n",
    "1. Write a simple character, word, and line count function ...\n",
    "2. Make a two-player chutes and ladders game ...\n"
   ]
  },
  {
   "cell_type": "code",
   "execution_count": 1,
   "metadata": {},
   "outputs": [],
   "source": [
    "# Import packages ...\n",
    "import numpy as np\n",
    "import matplotlib as mpl\n",
    "import matplotlib.pyplot as plt"
   ]
  },
  {
   "cell_type": "code",
   "execution_count": null,
   "metadata": {},
   "outputs": [],
   "source": []
  },
  {
   "cell_type": "markdown",
   "metadata": {},
   "source": [
    "## Field Capacity Problem\n",
    "\n",
    "The formula for field capacity is `C = S*W*E/8.25` where the units of C are acres/hour and\n",
    "* S = tractor speed in mph\n",
    "* W = width of implement in feet\n",
    "* E = efficiency of swath (a fraction between 0 and 1)\n",
    "\n",
    "Let `E = 0.85`.\n",
    "\n",
    "Let `S` range from 3 to 7 in 0.5 mph increments\n",
    "\n",
    "Let `W` range from 10 to 60 in 10 foot increments\n",
    "\n",
    "Code a capacity estimator using a nested set of `for` loops and the print command. You might want to try using `f-strings` to format a decent looking table."
   ]
  },
  {
   "cell_type": "code",
   "execution_count": 2,
   "metadata": {},
   "outputs": [],
   "source": [
    "S = np.linspace(3,7,9);\n",
    "W = np.linspace(10,60,6)"
   ]
  },
  {
   "cell_type": "code",
   "execution_count": 3,
   "metadata": {},
   "outputs": [
    {
     "name": "stdout",
     "output_type": "stream",
     "text": [
      "[3.  3.5 4.  4.5 5.  5.5 6.  6.5 7. ]\n",
      "[10. 20. 30. 40. 50. 60.]\n"
     ]
    }
   ],
   "source": [
    "print(S)\n",
    "print(W)"
   ]
  },
  {
   "cell_type": "code",
   "execution_count": 4,
   "metadata": {},
   "outputs": [
    {
     "name": "stdout",
     "output_type": "stream",
     "text": [
      "speed\twidth\tcapacity\n",
      "3.0\t10.0\t3.64\n",
      "3.0\t20.0\t7.27\n",
      "3.0\t30.0\t10.91\n",
      "3.0\t40.0\t14.55\n",
      "3.0\t50.0\t18.18\n",
      "3.0\t60.0\t21.82\n",
      "3.5\t10.0\t4.24\n",
      "3.5\t20.0\t8.48\n",
      "3.5\t30.0\t12.73\n",
      "3.5\t40.0\t16.97\n",
      "3.5\t50.0\t21.21\n",
      "3.5\t60.0\t25.45\n",
      "4.0\t10.0\t4.85\n",
      "4.0\t20.0\t9.70\n",
      "4.0\t30.0\t14.55\n",
      "4.0\t40.0\t19.39\n",
      "4.0\t50.0\t24.24\n",
      "4.0\t60.0\t29.09\n",
      "4.5\t10.0\t5.45\n",
      "4.5\t20.0\t10.91\n",
      "4.5\t30.0\t16.36\n",
      "4.5\t40.0\t21.82\n",
      "4.5\t50.0\t27.27\n",
      "4.5\t60.0\t32.73\n",
      "5.0\t10.0\t6.06\n",
      "5.0\t20.0\t12.12\n",
      "5.0\t30.0\t18.18\n",
      "5.0\t40.0\t24.24\n",
      "5.0\t50.0\t30.30\n",
      "5.0\t60.0\t36.36\n",
      "5.5\t10.0\t6.67\n",
      "5.5\t20.0\t13.33\n",
      "5.5\t30.0\t20.00\n",
      "5.5\t40.0\t26.67\n",
      "5.5\t50.0\t33.33\n",
      "5.5\t60.0\t40.00\n",
      "6.0\t10.0\t7.27\n",
      "6.0\t20.0\t14.55\n",
      "6.0\t30.0\t21.82\n",
      "6.0\t40.0\t29.09\n",
      "6.0\t50.0\t36.36\n",
      "6.0\t60.0\t43.64\n",
      "6.5\t10.0\t7.88\n",
      "6.5\t20.0\t15.76\n",
      "6.5\t30.0\t23.64\n",
      "6.5\t40.0\t31.52\n",
      "6.5\t50.0\t39.39\n",
      "6.5\t60.0\t47.27\n",
      "7.0\t10.0\t8.48\n",
      "7.0\t20.0\t16.97\n",
      "7.0\t30.0\t25.45\n",
      "7.0\t40.0\t33.94\n",
      "7.0\t50.0\t42.42\n",
      "7.0\t60.0\t50.91\n"
     ]
    }
   ],
   "source": [
    "print('speed' '\\twidth' '\\tcapacity')\n",
    "for x in S:\n",
    "    for y in W:\n",
    "        cap = x*y/8.25\n",
    "#        print(x, ' ', y, ' ',cap) #simpler, poorer format\n",
    "        print(f'{x}\\t{y}\\t{cap:.2f}')"
   ]
  },
  {
   "cell_type": "code",
   "execution_count": null,
   "metadata": {},
   "outputs": [],
   "source": []
  },
  {
   "cell_type": "code",
   "execution_count": null,
   "metadata": {},
   "outputs": [],
   "source": []
  },
  {
   "cell_type": "code",
   "execution_count": null,
   "metadata": {},
   "outputs": [],
   "source": []
  },
  {
   "cell_type": "markdown",
   "metadata": {},
   "source": [
    "## The Chutes and Ladders Game ...\n",
    "\n",
    "Prof. Buckmaster introduced the chutes and ladders game as an example of computing using Excel. The typical game board, containing 100 squares, is shown below."
   ]
  },
  {
   "cell_type": "markdown",
   "metadata": {},
   "source": [
    "<img align=\"left\" src='Figs/Chutes&LaddersImage.png' width=\"300\"/>"
   ]
  },
  {
   "cell_type": "markdown",
   "metadata": {},
   "source": [
    "### Short version of the rules:\n",
    "\n",
    "1. Assume there are N players, who have been ordered according to the order in which they will play by some random means (e.g., by rolling the dice, drawing straws, etc.)\n",
    "\n",
    "2. Players all start at position 0.\n",
    "\n",
    "3. At time k (k = 0, 1, 2, ...) the positions of the N players are indicated by p_n(k) for n = 1, 2, 3, ..., N.\n",
    "\n",
    "4. Starting with player 1, each player throws a die and adds the value shown on the die to his position, i.e., p_1(k+1) = p_1(k) + {the roll of the die}. Then the player moves to that position on the board. If there is no chute or ladder at the new position, he remains there and his turn ends. On the other hand, if there is a chute or a ladder at the new position, the player must climb the ladder or fall down the chute as the case may be .... this change then yields the new position.\n",
    "\n",
    "5. The first player to reach position 100 exactly wins the game. If a player rolls the die and computes a new position that would take her past 100, then the roll is voided and she remains at her original position."
   ]
  },
  {
   "cell_type": "markdown",
   "metadata": {},
   "source": [
    "### Following is a function which rolls the die and computes the new position of a player."
   ]
  },
  {
   "cell_type": "code",
   "execution_count": 5,
   "metadata": {},
   "outputs": [],
   "source": [
    "# This needs to be included for the random drawing of numbers from\n",
    "# 1 to 6 simulating the throw of a die.\n",
    "import random\n",
    "from random import Random\n",
    "\n",
    "random.seed(a=None,version=2)\n",
    "\n",
    "# This dictionary stores the chutes and ladders board.\n",
    "CandLTable = {1:38, 4:14, 9:31, 16:6, 21:42, 28:84, 36:44, 47:26, 49:11, 51:67,\n",
    "             56:53, 63:19, 64:60, 71:91, 80:100, 87:24, 93:73, 95:75, 98:78}\n",
    "\n",
    "# The function to make a move\n",
    "def CandL_make_a_move(position,CandLTable):\n",
    "    rand = Random(None)\n",
    "    roll = rand.randint(1, 6)\n",
    "    if position + roll > 100:\n",
    "        return position\n",
    "    position += roll\n",
    "    position = CandLTable.get(position, position)\n",
    "    return position"
   ]
  },
  {
   "cell_type": "markdown",
   "metadata": {},
   "source": [
    "# HW Problem: Program Chutes and Ladders Game\n",
    "\n",
    "Write a program which plays a game between two people until one wins and produces a record of the game play.\n",
    "\n",
    "If you have time convert your single game code into a function and then write a program to play a large number of games one after another keeping a record of who won and how long the game lasted. Then compute statistics and/or histograms.\n",
    "\n",
    "Finally, if you still can't sleep explore how changes to the positions of chutes and ladders might change the game."
   ]
  },
  {
   "cell_type": "code",
   "execution_count": 6,
   "metadata": {},
   "outputs": [
    {
     "data": {
      "text/plain": [
       "5"
      ]
     },
     "execution_count": 6,
     "metadata": {},
     "output_type": "execute_result"
    }
   ],
   "source": [
    "CandL_make_a_move(1,CandLTable)"
   ]
  },
  {
   "cell_type": "code",
   "execution_count": 7,
   "metadata": {},
   "outputs": [
    {
     "data": {
      "text/plain": [
       "5"
      ]
     },
     "execution_count": 7,
     "metadata": {},
     "output_type": "execute_result"
    }
   ],
   "source": [
    "CandL_make_a_move(3,CandLTable)"
   ]
  },
  {
   "cell_type": "code",
   "execution_count": null,
   "metadata": {},
   "outputs": [],
   "source": []
  },
  {
   "cell_type": "code",
   "execution_count": 8,
   "metadata": {},
   "outputs": [
    {
     "data": {
      "image/png": "[encoded data removed]",
      "text/plain": [
       "<Figure size 432x288 with 1 Axes>"
      ]
     },
     "metadata": {
      "needs_background": "light"
     },
     "output_type": "display_data"
    }
   ],
   "source": [
    "P1 = np.array([0])\n",
    "\n",
    "p1 = 0\n",
    "\n",
    "while (p1 < 100):\n",
    "    p1 = CandL_make_a_move(p1, CandLTable)\n",
    "    P1 = np.append(P1, p1)\n",
    "\n",
    "\n",
    "# This simply plots the positions of the two players over the\n",
    "# course of the game.\n",
    "fig3 = plt.figure()\n",
    "plt.style.use('seaborn-dark-palette')\n",
    "plt.plot(P1,'*')\n",
    "plt.grid()\n"
   ]
  },
  {
   "cell_type": "code",
   "execution_count": 19,
   "metadata": {},
   "outputs": [
    {
     "name": "stdout",
     "output_type": "stream",
     "text": [
      "player 1 turns\n",
      "[ 0 38 44 45 48 53 57 58 19 23 24 25 27 84 86 24 25 30 32]\n",
      "player 2 turns\n",
      "[  0   2  14   6  11  17  18  20  24  84  85  89  94  97  97  97  97  78\n",
      " 100]\n",
      "\n",
      " player 2 wins - see green!!\n"
     ]
    },
    {
     "data": {
      "image/png": "[encoded data removed]",
      "text/plain": [
       "<Figure size 432x288 with 1 Axes>"
      ]
     },
     "metadata": {
      "needs_background": "light"
     },
     "output_type": "display_data"
    }
   ],
   "source": [
    "P1 = np.array([0])\n",
    "P2 = np.array([0])\n",
    "\n",
    "p1 = 0\n",
    "p2 = 0\n",
    "\n",
    "while (p1 < 100) and (p2 < 100):\n",
    "    p1 = CandL_make_a_move(p1, CandLTable)\n",
    "    P1 = np.append(P1, p1)\n",
    "    p2 = CandL_make_a_move(p2, CandLTable)\n",
    "    P2 = np.append(P2,p2)\n",
    "print ('player 1 turns')\n",
    "print (P1)\n",
    "print ('player 2 turns')\n",
    "print (P2)\n",
    "print ()\n",
    "\n",
    "if(p2 > p1):\n",
    "    print(' player 2 wins - see green!!')\n",
    "else:\n",
    "    print(' player 1 wins - see blue :-)')\n",
    "# This simply plots the positions of the two players over the\n",
    "# course of the game.\n",
    "fig3 = plt.figure()\n",
    "plt.style.use('seaborn-dark-palette')\n",
    "plt.plot(P1,'*')\n",
    "plt.plot(P2,'*')\n",
    "plt.grid()"
   ]
  },
  {
   "cell_type": "markdown",
   "metadata": {},
   "source": [
    "## Hint on Line Reverser\n",
    "\n",
    "The function is to take an input string of arbitrary length as its input and return as output the string in reverse order.\n",
    "\n",
    "For example: \n",
    "\n",
    "1. If the input string is `bananas` then the output should be `sananab`.\n",
    "2. If the input string is `But here's my number, so call me, maybe` then the output should be `ebyam ,em llac os ,rebmun ym s'ereh tuB`"
   ]
  },
  {
   "cell_type": "code",
   "execution_count": null,
   "metadata": {},
   "outputs": [],
   "source": [
    "# Skeleton\n",
    "\n",
    "def anameforyourfunction(instring):\n",
    "    initialize output string\n",
    "    for loop ...\n",
    "    pre-pend to output string\n",
    "    return the output string\n",
    "\n",
    "# Test it on 'bananas' ...\n",
    "\n",
    "anameforyourfunction('bananas')\n",
    "\n",
    "# Reverse longline variable ...\n",
    "\n",
    "backwardslongline = anameforyourfunction(longline)\n"
   ]
  },
  {
   "cell_type": "code",
   "execution_count": null,
   "metadata": {},
   "outputs": [],
   "source": [
    "# Here are some useful ideas ...\n",
    "instring = 'But here\\'s my number, so call me, maybe'; # notice the backslash!"
   ]
  },
  {
   "cell_type": "code",
   "execution_count": null,
   "metadata": {},
   "outputs": [],
   "source": [
    "instring"
   ]
  },
  {
   "cell_type": "code",
   "execution_count": null,
   "metadata": {},
   "outputs": [],
   "source": [
    "# instring is an array of characters and we can address them with the notation ...\n",
    "instring[0]"
   ]
  },
  {
   "cell_type": "code",
   "execution_count": null,
   "metadata": {},
   "outputs": [],
   "source": [
    "# We can find the length of instring using the command\n",
    "len(instring)"
   ]
  },
  {
   "cell_type": "code",
   "execution_count": null,
   "metadata": {},
   "outputs": [],
   "source": [
    "i = 0;\n",
    "while i < len(instring):\n",
    "    print(instring[i])\n",
    "    i = i + 1;"
   ]
  },
  {
   "cell_type": "code",
   "execution_count": null,
   "metadata": {},
   "outputs": [],
   "source": [
    "# What if I wanted to go in reverse?\n",
    "\n",
    "j = len(instring) - 1;\n",
    "while j >= 0:\n",
    "    print(instring[j])\n",
    "    j = j - 1;"
   ]
  },
  {
   "cell_type": "code",
   "execution_count": null,
   "metadata": {},
   "outputs": [],
   "source": []
  },
  {
   "cell_type": "markdown",
   "metadata": {},
   "source": [
    "From Andrew Balmos ...."
   ]
  },
  {
   "cell_type": "markdown",
   "metadata": {},
   "source": [
    "# Project: Fetching data from ThingsBoard\n",
    "\n",
    "[ThingsBoard](https://thingsboard.io/) is a service that accepts, processes, stores and visualizes data streams. We use it to store and plot IoT data from LoRaWAN sensors in the [Purdue OATS DataStation (POD)](https://github.com/oats-center/pod) project.\n",
    "\n",
    "In this notebook, we will go through programmatically fetching data from the ThingsBoard from a real POD deployed on Professor Buckmaster's home farm.\n",
    "\n",
    "Let us begin by importing some useful libraries that will be used throughout the notebook. Those are:\n",
    "1. requests: Makes HTTP requests. We will use it to grab data from ThingsBoard.\n",
    "2. pandas: A popular tool for doing data analysis in python.\n",
    "3. matplotlib: A tool for making graphical plots.\n",
    "4. pprint: A python module for printing variables nicely.\n",
    "\n",
    "_Note:_ I set the matplotlib style to “seaborn” because I like it better. It is not required and you are welcome to adjust it to your liking."
   ]
  },
  {
   "cell_type": "code",
   "execution_count": null,
   "metadata": {},
   "outputs": [],
   "source": [
    "import requests\n",
    "import pandas as pd\n",
    "import pprint"
   ]
  },
  {
   "cell_type": "markdown",
   "metadata": {},
   "source": [
    "# Logging in\n",
    "\n",
    "To log into ThingsBoard as an application, you must make an HTTP request that trades a valid username / password combination for a so-called token. \n",
    "\n",
    "The token is equivalent to the username and password, but it does not actually contain the user's password, and it is time limited. This design has slight higher security posture because third party applications (like this notebook) do not have to store the users' password (and therefore can not accidentally leak it).\n",
    "\n",
    "_**Note: If the below API calls start to fail while working with this notebook, your token may have timed out. You simply need to run the below block again**_"
   ]
  },
  {
   "cell_type": "code",
   "execution_count": null,
   "metadata": {},
   "outputs": [],
   "source": [
    "url=\"https://pod-buckmaster.oatscenter.org\"\n",
    "username=\"blahblah@oatscenter.org\"\n",
    "password=\"yablahblah\""
   ]
  },
  {
   "cell_type": "code",
   "execution_count": null,
   "metadata": {},
   "outputs": [],
   "source": [
    "# Fetch \n",
    "resp = requests.post(f\"{url}/api/auth/login\", json={\n",
    "            \"username\": username,\n",
    "            \"password\": password\n",
    "        }).json()\n"
   ]
  },
  {
   "cell_type": "code",
   "execution_count": null,
   "metadata": {},
   "outputs": [],
   "source": [
    "print(resp)"
   ]
  },
  {
   "cell_type": "code",
   "execution_count": null,
   "metadata": {},
   "outputs": [],
   "source": [
    "# Keep the token around\n",
    "token = resp['token']"
   ]
  },
  {
   "cell_type": "markdown",
   "metadata": {},
   "source": [
    "# Fetching the available time series for a specific device\n",
    "\n",
    "It is a bit complex (but possible if needed) to fetch all available devices with the ThingsBoard API. So to simplify things for this demonstration, please just log into the ThingsBoard UI, navigate to the \"Devices\" page, select the device of interest, and then choose \"Copy device id\". \n",
    "\n",
    "Finally, paste the copied value into the `device_id` variable below."
   ]
  },
  {
   "cell_type": "code",
   "execution_count": null,
   "metadata": {},
   "outputs": [],
   "source": [
    "device_id = \"32bb7330-b1e7-11ec-8f23-8d2bc3d3b81e\" # oyster-EBA3 (A GPS tracker)\n",
    "\n",
    "keys = requests.get(f\"{url}/api/plugins/telemetry/DEVICE/{device_id}/keys/timeseries\",\n",
    "                 headers={\n",
    "                     'content-type': 'application/json',\n",
    "                     'x-authorization': f\"bearer {token}\"\n",
    "                 }).json()"
   ]
  },
  {
   "cell_type": "code",
   "execution_count": null,
   "metadata": {},
   "outputs": [],
   "source": [
    "print(keys)"
   ]
  },
  {
   "cell_type": "markdown",
   "metadata": {},
   "source": [
    "# Fetching a time series of interest\n",
    "\n",
    "In this case, I selected an Oyster GPS device and I want to plot the device's battery and vehicles speed over time. So I choose `data_battery_voltage` and `data_speed_kmph`."
   ]
  },
  {
   "cell_type": "code",
   "execution_count": null,
   "metadata": {},
   "outputs": [],
   "source": [
    "key = ['data_battery_voltage', 'data_speed_kmph', 'data_lat_deg', 'data_lon_deg']\n",
    "start = 1650427200000 # Use: https://www.epochconverter.com/ to convert your desired date to a \"Timestamp in milliseconds\"\n",
    "stop = 1650740223000 # Use: https://www.epochconverter.com/ to convert your desired date to a \"Timestamp in milliseconds\"\n",
    "limit = 100000 # Maximum number of points to return. By default this value is small. If you want everything, set to something large.\n",
    "\n",
    "data = requests.get(f\"{url}/api/plugins/telemetry/DEVICE/{device_id}/values/timeseries\",\n",
    "             headers={\n",
    "                 'content-type': 'application/json',\n",
    "                 'x-authorization': f\"bearer {token}\"\n",
    "             },\n",
    "            params= {\n",
    "                'keys': key,\n",
    "                'startTs': start,\n",
    "                'endTs': stop,\n",
    "                'limit': limit,\n",
    "                'agg': 'NONE'\n",
    "            }).json()"
   ]
  },
  {
   "cell_type": "code",
   "execution_count": null,
   "metadata": {},
   "outputs": [],
   "source": [
    "type(data)"
   ]
  },
  {
   "cell_type": "code",
   "execution_count": null,
   "metadata": {},
   "outputs": [],
   "source": [
    "print(data)"
   ]
  },
  {
   "cell_type": "code",
   "execution_count": null,
   "metadata": {},
   "outputs": [],
   "source": [
    "len(data['data_speed_kmph'])"
   ]
  },
  {
   "cell_type": "code",
   "execution_count": null,
   "metadata": {},
   "outputs": [],
   "source": [
    "data['data_speed_kmph'][0]"
   ]
  },
  {
   "cell_type": "code",
   "execution_count": null,
   "metadata": {},
   "outputs": [],
   "source": [
    "data['data_lat_deg']"
   ]
  },
  {
   "cell_type": "code",
   "execution_count": null,
   "metadata": {},
   "outputs": [],
   "source": [
    "time = np.array([0]);\n",
    "voltage = np.array([0]);\n",
    "lats = np.array([0]);\n",
    "lons = np.array([0]);\n",
    "lattimes = np.array([0]);\n",
    "lontimes = np.array([0]);\n",
    "\n",
    "\n",
    "for x in data['data_battery_voltage']:\n",
    "    time = np.append(time, x['ts'])\n",
    "    voltage = np.append(voltage, x['value'])\n",
    "    print(x['ts'], x['value'])\n",
    "    \n",
    "time = np.delete(time,0)\n",
    "voltage = np.delete(voltage,0)\n",
    "\n",
    "for y in data['data_lat_deg']:\n",
    "    lats = np.append(lats, y['value'])\n",
    "    lattimes = np.append(lattimes, y['ts'])\n",
    "    \n",
    "for z in data['data_lon_deg']:\n",
    "    lons = np.append(lons, z['value'])\n",
    "    lontimes = np.append(lontimes, z['ts'])\n",
    "    \n",
    "lats = np.delete(lats,0)\n",
    "lons = np.delete(lons,0)\n",
    "lattimes = np.delete(lattimes,0)\n",
    "lontimes = np.delete(lontimes,0)\n",
    "    "
   ]
  },
  {
   "cell_type": "code",
   "execution_count": null,
   "metadata": {},
   "outputs": [],
   "source": [
    "time.shape"
   ]
  },
  {
   "cell_type": "code",
   "execution_count": null,
   "metadata": {},
   "outputs": [],
   "source": [
    "plt.plot(time, voltage)"
   ]
  },
  {
   "cell_type": "code",
   "execution_count": null,
   "metadata": {},
   "outputs": [],
   "source": [
    "plt.plot(lontimes,lons,'*')"
   ]
  },
  {
   "cell_type": "code",
   "execution_count": null,
   "metadata": {},
   "outputs": [],
   "source": [
    "plt.plot(lattimes,lats,'*')"
   ]
  },
  {
   "cell_type": "code",
   "execution_count": null,
   "metadata": {},
   "outputs": [],
   "source": [
    "plt.plot(lats,lons,'*')"
   ]
  },
  {
   "cell_type": "code",
   "execution_count": null,
   "metadata": {},
   "outputs": [],
   "source": [
    "fig = plt.figure()\n",
    "plt.style.use('classic')\n",
    "plt.plot(lons, lats, '.')\n",
    "plt.title(\"Example Plot\")\n",
    "plt.xlabel(\"lons\")\n",
    "plt.ylabel(\"lats\")\n",
    "plt.grid()"
   ]
  },
  {
   "cell_type": "code",
   "execution_count": null,
   "metadata": {},
   "outputs": [],
   "source": []
  },
  {
   "cell_type": "code",
   "execution_count": null,
   "metadata": {},
   "outputs": [],
   "source": [
    "# Parse voltage\n",
    "## Convert the raw Python map to a Pandas DataFrame\n",
    "Lon = pd.DataFrame(data['data_lon_deg'])\n",
    "\n",
    "## Convert from string to float\n",
    "Lon[\"value\"] = Lon[\"value\"].astype(float)\n",
    "\n",
    "## ThingsBoard API calls the value timeseries \"value\", rename it to \"voltage\" for our sanity\n",
    "Lon.rename( columns={'value': 'longitude'}, inplace=True)\n",
    "\n",
    "## Convert the date \"string\" into a real Pandas date object (enables some Pandas niceties)\n",
    "Lon['ts'] = pd.to_datetime(Lon['ts'], unit='ms')\n",
    "\n",
    "# Tell Pandas to use the \"ts\" column as the index ... the x-axis of our plots and queries\n",
    "Lon.set_index('ts', inplace=True)\n",
    "    \n",
    "# Parse speed\n",
    "\n",
    "## Convert the raw Python map to a Pandas DataFrame\n",
    "Lat = pd.DataFrame(data['data_lat_deg'])\n",
    "\n",
    "## Convert from string to float and MPH\n",
    "Lat[\"value\"] = Lat[\"value\"].astype(float)\n",
    "\n",
    "## ThingsBoard API calls the value timeseries \"value\", rename it to \"speed_kmph\" for our sanity\n",
    "Lat.rename(columns={'value': 'lattitude'}, inplace=True)\n",
    "\n",
    "## Convert the date \"string\" into a real Pandas date object (enables some Pandas niceties)\n",
    "Lat['ts'] = pd.to_datetime(Lat['ts'], unit='ms')\n",
    "\n",
    "# Tell Pandas to use the \"ts\" column as the index ... the x-axis of our plots and queries\n",
    "Lat.set_index('ts', inplace=True)\n",
    "\n",
    "## Combine the two into one common DataFrame\n",
    "oyster = pd.concat([Lat, Lon], axis=1, join=\"inner\")\n",
    "\n",
    "oyster"
   ]
  },
  {
   "cell_type": "code",
   "execution_count": null,
   "metadata": {},
   "outputs": [],
   "source": [
    "oyster.plot.scatter(x='longitude',y='lattitude')"
   ]
  },
  {
   "cell_type": "code",
   "execution_count": null,
   "metadata": {},
   "outputs": [],
   "source": []
  },
  {
   "cell_type": "code",
   "execution_count": null,
   "metadata": {},
   "outputs": [],
   "source": []
  }
 ],
 "metadata": {
  "kernelspec": {
   "display_name": "Python 3 (ipykernel)",
   "language": "python",
   "name": "python3"
  },
  "language_info": {
   "codemirror_mode": {
    "name": "ipython",
    "version": 3
   },
   "file_extension": ".py",
   "mimetype": "text/x-python",
   "name": "python",
   "nbconvert_exporter": "python",
   "pygments_lexer": "ipython3",
   "version": "3.7.12"
  }
 },
 "nbformat": 4,
 "nbformat_minor": 4
}
